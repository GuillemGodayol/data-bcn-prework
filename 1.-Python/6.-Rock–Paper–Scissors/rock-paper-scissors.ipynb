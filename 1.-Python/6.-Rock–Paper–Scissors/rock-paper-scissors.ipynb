{
 "cells": [
  {
   "cell_type": "markdown",
   "metadata": {},
   "source": [
    "<img src=\"https://bit.ly/2VnXWr2\" width=\"100\" align=\"left\">"
   ]
  },
  {
   "cell_type": "markdown",
   "metadata": {},
   "source": [
    "# Rock, Paper & Scissors\n",
    "\n",
    "Let's play the famous game against our computer. You can check the rules [here](https://en.wikipedia.org/wiki/Rock%E2%80%93paper%E2%80%93scissors). \n",
    "\n",
    "## Task\n",
    "Create a program that imitates the playability of the well known game of rock, paper, scissors. Follow the guidelines provided.\n",
    "\n",
    "## Tools\n",
    "1. Loop: **for/while**\n",
    "2. Functions: **input(), print()...**\n",
    "3. Conditional statements: **if, elif, else**\n",
    "4. Definition of functions. Modular programming\n",
    "5. Import modules\n",
    "\n",
    "**To solve this challenge, the use of functions is recommended.**\n",
    "\n",
    "#### 1. Import the choice function of the random module."
   ]
  },
  {
   "cell_type": "code",
   "execution_count": 28,
   "metadata": {},
   "outputs": [],
   "source": [
    "import random"
   ]
  },
  {
   "cell_type": "markdown",
   "metadata": {},
   "source": [
    "#### 2. Create a list that includes the 3 possible gesture options of the game: 'rock', 'paper' or 'scissors'. Store the list in a variable called `gestures`."
   ]
  },
  {
   "cell_type": "code",
   "execution_count": 29,
   "metadata": {},
   "outputs": [],
   "source": [
    "gestures = [\"Rock\", \"Paper\", \"Scissors\"]"
   ]
  },
  {
   "cell_type": "markdown",
   "metadata": {},
   "source": [
    "#### 3. Create a variable called `n_rounds` to store the maximum number of rounds to play in a game. \n",
    "Remember that the number of rounds must be odd: 1, 3, 5, ..."
   ]
  },
  {
   "cell_type": "code",
   "execution_count": 30,
   "metadata": {},
   "outputs": [
    {
     "name": "stdout",
     "output_type": "stream",
     "text": [
      "How many rounds do you want to play?3\n"
     ]
    }
   ],
   "source": [
    "n_rounds = int(input(\"How many rounds do you want to play?\"))\n",
    "\n",
    "while n_rounds == 0 or (n_rounds % 2) == 0:\n",
    "    print(\"Please, set an odd number of rounds\")\n",
    "    n_rounds = int(input(\"How many rounds do you want to play?\"))"
   ]
  },
  {
   "cell_type": "markdown",
   "metadata": {},
   "source": [
    "#### 4. Create a variable called `rounds_to_win` to store the number of rounds that a player must win to win the game.\n",
    "**Hint**: the value stored in `rounds_to_win` depends on the value of `n_rounds`. "
   ]
  },
  {
   "cell_type": "code",
   "execution_count": 31,
   "metadata": {},
   "outputs": [],
   "source": [
    "rounds_to_win = (n_rounds + 1) / 2"
   ]
  },
  {
   "cell_type": "markdown",
   "metadata": {},
   "source": [
    "#### 5. Create two variables to store the number of rounds that the computer and the player have won. Call these variables `cpu_score` and `player_score`."
   ]
  },
  {
   "cell_type": "code",
   "execution_count": 32,
   "metadata": {},
   "outputs": [],
   "source": [
    "cpu_score = 0\n",
    "player_score = 0"
   ]
  },
  {
   "cell_type": "markdown",
   "metadata": {},
   "source": [
    "#### 6. Define a function that randomly returns one of the 3 gesture options.\n",
    "You will use this function to simulate the gesture choice of the computer. "
   ]
  },
  {
   "cell_type": "code",
   "execution_count": 33,
   "metadata": {},
   "outputs": [],
   "source": [
    "def cpu_gesture():\n",
    "    cpu_gest = random.choice(gestures)\n",
    "    return cpu_gest"
   ]
  },
  {
   "cell_type": "markdown",
   "metadata": {},
   "source": [
    "#### 7. Define a function that asks the player which is the gesture he or she wants to show: 'rock', 'paper' or 'scissors'.\n",
    "The player should only be allowed to choose one of the 3 gesture options. If the player's choice is not rock, paper or scissors, keep asking until it is."
   ]
  },
  {
   "cell_type": "code",
   "execution_count": 34,
   "metadata": {},
   "outputs": [],
   "source": [
    "def players_gesture():\n",
    "    players_gest = input(\"What is your gesture for this round?\")\n",
    "    while players_gest not in gestures:\n",
    "        print(\"Please, select a valid gesture\")\n",
    "        players_gest = input(\"What is your gesture for this round?\")\n",
    "    return players_gest"
   ]
  },
  {
   "cell_type": "markdown",
   "metadata": {},
   "source": [
    "#### 8. Define a function that checks who won a round. \n",
    "The function should return 0 if there is a tie, 1 if the computer wins and 2 if the player wins."
   ]
  },
  {
   "cell_type": "code",
   "execution_count": 35,
   "metadata": {},
   "outputs": [],
   "source": [
    "def checking(cpu_gest, players_gest):\n",
    "    if cpu_gest == \"Rock\":\n",
    "        if players_gest == \"Rock\":\n",
    "            return 0\n",
    "        elif players_gest == \"Scissors\":\n",
    "            return 1\n",
    "        else:\n",
    "            return 2\n",
    "    elif cpu_gest == \"Paper\":\n",
    "        if players_gest == \"Paper\":\n",
    "            return 0\n",
    "        elif players_gest == \"Rock\":\n",
    "            return 1\n",
    "        else:\n",
    "            return 2\n",
    "    else:\n",
    "        if players_gest == \"Scissors\":\n",
    "            return 0\n",
    "        elif players_gest == \"Paper\":\n",
    "            return 1\n",
    "        else:\n",
    "            return 2"
   ]
  },
  {
   "cell_type": "markdown",
   "metadata": {},
   "source": [
    "#### 9. Define a function that prints the choice of the computer, the choice of the player and a message that announces who won the current round. \n",
    "You should also use this function to update the variables that count the number of rounds that the computer and the player have won. The score of the winner increases by one point. If there is a tie, the score does not increase."
   ]
  },
  {
   "cell_type": "code",
   "execution_count": 36,
   "metadata": {},
   "outputs": [],
   "source": [
    "def round_result(checking):\n",
    "    global cpu_score\n",
    "    global player_score\n",
    "    print(\"The CPU choice is\", cpu_gest)\n",
    "    print(\"Your choice is\", players_gest)\n",
    "    if checking(cpu_gest, players_gest) == 0:\n",
    "        print(\"It's a tie!\")\n",
    "    elif checking(cpu_gest, players_gest) == 1:\n",
    "        print(\"CPU wins this round!\")\n",
    "        cpu_score += 1\n",
    "    elif checking(cpu_gest, players_gest) == 2:\n",
    "        print(\"You win this round!\")\n",
    "        player_score += 1"
   ]
  },
  {
   "cell_type": "markdown",
   "metadata": {},
   "source": [
    "#### 10. Now it's time to code the execution of the game using the functions and variables you defined above. \n",
    "\n",
    "First, create a loop structure that repeats while no player reaches the minimum score necessary to win and the number of rounds is less than the maximum number of rounds to play in a game.  \n",
    "\n",
    "Inside the loop, use the functions and variables above to create the execution of a round: ask for the player's choice, generate the random choice of the computer, show the round results, update the scores, etc. "
   ]
  },
  {
   "cell_type": "code",
   "execution_count": 37,
   "metadata": {},
   "outputs": [
    {
     "name": "stdout",
     "output_type": "stream",
     "text": [
      "What is your gesture for this round?Rock\n",
      "The CPU choice is Scissors\n",
      "Your choice is Rock\n",
      "You win this round!\n",
      "CPU score is 0\n",
      "Your score is 1\n",
      "What is your gesture for this round?Scissors\n",
      "The CPU choice is Scissors\n",
      "Your choice is Scissors\n",
      "It's a tie!\n",
      "CPU score is 0\n",
      "Your score is 1\n",
      "What is your gesture for this round?Rock\n",
      "The CPU choice is Paper\n",
      "Your choice is Rock\n",
      "CPU wins this round!\n",
      "CPU score is 1\n",
      "Your score is 1\n",
      "What is your gesture for this round?Rock\n",
      "The CPU choice is Paper\n",
      "Your choice is Rock\n",
      "CPU wins this round!\n",
      "CPU score is 2\n",
      "Your score is 1\n"
     ]
    }
   ],
   "source": [
    "while player_score < rounds_to_win and cpu_score < rounds_to_win:\n",
    "    cpu_gest = cpu_gesture()\n",
    "    players_gest = players_gesture()\n",
    "    checking(cpu_gest, players_gest)\n",
    "    round_result(checking)\n",
    "    print(\"CPU score is\", cpu_score)\n",
    "    print(\"Your score is\", player_score)"
   ]
  },
  {
   "cell_type": "markdown",
   "metadata": {},
   "source": [
    "#### 11. Print the winner of the game based on who won more rounds.\n",
    "Remember that the game might be tied. "
   ]
  },
  {
   "cell_type": "code",
   "execution_count": 38,
   "metadata": {},
   "outputs": [
    {
     "name": "stdout",
     "output_type": "stream",
     "text": [
      "The CPU wins the game!\n"
     ]
    }
   ],
   "source": [
    "if cpu_score == rounds_to_win:\n",
    "    print(\"The CPU wins the game!\")\n",
    "else:\n",
    "    print(\"You win the game!\")"
   ]
  },
  {
   "cell_type": "markdown",
   "metadata": {},
   "source": [
    "# Bonus: Rock, Paper, Scissors, Lizard & Spock\n",
    "![](images/rpsls.jpg)\n",
    "\n",
    "In this challenge, you need to improve the previous game by adding two new options. To know more about the rules of the improved version of rock, paper, scissors, check this [link](http://www.samkass.com/theories/RPSSL.html). \n",
    "\n",
    "In addition, you will also need to improve how the game interacts with the player: the number of rounds to play, which must be an odd number, will be requested to the user until a valid number is entered. Define a new function to make that request.\n",
    "\n",
    "**Hint**: Try to reuse the code that you already coded in the previous challenge. If your code is efficient, this bonus will only consist of simple modifications to the original game."
   ]
  },
  {
   "cell_type": "code",
   "execution_count": 43,
   "metadata": {},
   "outputs": [
    {
     "name": "stdout",
     "output_type": "stream",
     "text": [
      "How many rounds do you want to play?3\n",
      "What is your gesture for this round?Lizard\n",
      "The CPU choice is Lizard\n",
      "Your choice is Lizard\n",
      "It's a tie!\n",
      "CPU score is 0\n",
      "Your score is 0\n",
      "What is your gesture for this round?Rock\n",
      "The CPU choice is Lizard\n",
      "Your choice is Rock\n",
      "You win this round!\n",
      "CPU score is 0\n",
      "Your score is 1\n",
      "What is your gesture for this round?Scissors\n",
      "The CPU choice is Rock\n",
      "Your choice is Scissors\n",
      "CPU wins this round!\n",
      "CPU score is 1\n",
      "Your score is 1\n",
      "What is your gesture for this round?Spock\n",
      "The CPU choice is Spock\n",
      "Your choice is Spock\n",
      "It's a tie!\n",
      "CPU score is 1\n",
      "Your score is 1\n",
      "What is your gesture for this round?Spock\n",
      "The CPU choice is Rock\n",
      "Your choice is Spock\n",
      "You win this round!\n",
      "CPU score is 1\n",
      "Your score is 2\n",
      "You win the game!\n"
     ]
    }
   ],
   "source": [
    "gestures = [\"Rock\", \"Paper\", \"Scissors\", \"Lizard\", \"Spock\"]\n",
    "\n",
    "n_rounds = int(input(\"How many rounds do you want to play?\"))\n",
    "\n",
    "while n_rounds == 0 or (n_rounds % 2) == 0:\n",
    "    print(\"Please, set an odd number of rounds\")\n",
    "    n_rounds = int(input(\"How many rounds do you want to play?\"))\n",
    "\n",
    "rounds_to_win = (n_rounds + 1) / 2\n",
    "\n",
    "cpu_score = 0\n",
    "player_score = 0\n",
    "\n",
    "def cpu_gesture():\n",
    "    cpu_gest = random.choice(gestures)\n",
    "    return cpu_gest\n",
    "\n",
    "def players_gesture():\n",
    "    players_gest = input(\"What is your gesture for this round?\")\n",
    "    while players_gest not in gestures:\n",
    "        print(\"Please, select a valid gesture\")\n",
    "        players_gest = input(\"What is your gesture for this round?\")\n",
    "    return players_gest\n",
    "\n",
    "def checking(cpu_gest, players_gest):\n",
    "    if cpu_gest == players_gest:\n",
    "        return 0\n",
    "    elif cpu_gest == \"Rock\" and (players_gest == \"Scissors\" or players_gest == \"Lizard\"):\n",
    "        return 1\n",
    "    elif cpu_gest == \"Rock\" and (players_gest == \"Paper\" or players_gest == \"Spock\"):\n",
    "        return 2\n",
    "    elif cpu_gest == \"Paper\" and (players_gest == \"Rock\" or players_gest == \"Spock\"):\n",
    "        return 1\n",
    "    elif cpu_gest == \"Paper\" and (players_gest == \"Scissors\" or players_gest == \"Lizard\"):\n",
    "        return 2\n",
    "    elif cpu_gest == \"Scissors\" and (players_gest == \"Paper\" or players_gest == \"Lizard\"):\n",
    "        return 1\n",
    "    elif cpu_gest == \"Scissors\" and (players_gest == \"Rock\" or players_gest == \"Spock\"):\n",
    "        return 2\n",
    "    elif cpu_gest == \"Lizard\" and (players_gest == \"Paper\" or players_gest == \"Spock\"):\n",
    "        return 1\n",
    "    elif cpu_gest == \"Lizard\" and (players_gest == \"Rock\" or players_gest == \"Scissors\"):\n",
    "        return 2\n",
    "    elif cpu_gest == \"Spock\" and (players_gest == \"Rock\" or players_gest == \"Scissors\"):\n",
    "        return 1\n",
    "    elif cpu_gest == \"Spock\" and (players_gest == \"Lizard\" or players_gest == \"Paper\"):\n",
    "        return 2\n",
    "    \n",
    "def round_result(checking):\n",
    "    global cpu_score\n",
    "    global player_score\n",
    "    print(\"The CPU choice is\", cpu_gest)\n",
    "    print(\"Your choice is\", players_gest)\n",
    "    if checking(cpu_gest, players_gest) == 0:\n",
    "        print(\"It's a tie!\")\n",
    "    elif checking(cpu_gest, players_gest) == 1:\n",
    "        print(\"CPU wins this round!\")\n",
    "        cpu_score += 1\n",
    "    elif checking(cpu_gest, players_gest) == 2:\n",
    "        print(\"You win this round!\")\n",
    "        player_score += 1\n",
    "\n",
    "while player_score < rounds_to_win and cpu_score < rounds_to_win:\n",
    "    cpu_gest = cpu_gesture()\n",
    "    players_gest = players_gesture()\n",
    "    checking(cpu_gest, players_gest)\n",
    "    round_result(checking)\n",
    "    print(\"CPU score is\", cpu_score)\n",
    "    print(\"Your score is\", player_score)\n",
    "    \n",
    "if cpu_score == rounds_to_win:\n",
    "    print(\"The CPU wins the game!\")\n",
    "else:\n",
    "    print(\"You win the game!\")"
   ]
  },
  {
   "cell_type": "code",
   "execution_count": null,
   "metadata": {},
   "outputs": [],
   "source": []
  }
 ],
 "metadata": {
  "kernelspec": {
   "display_name": "Python 3",
   "language": "python",
   "name": "python3"
  },
  "language_info": {
   "codemirror_mode": {
    "name": "ipython",
    "version": 3
   },
   "file_extension": ".py",
   "mimetype": "text/x-python",
   "name": "python",
   "nbconvert_exporter": "python",
   "pygments_lexer": "ipython3",
   "version": "3.7.4"
  }
 },
 "nbformat": 4,
 "nbformat_minor": 2
}
